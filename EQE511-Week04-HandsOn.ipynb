{
 "cells": [
  {
   "cell_type": "markdown",
   "metadata": {},
   "source": [
    "## EQE511- Week04 | Hands-on Class\n",
    "\n",
    "---\n",
    "\n",
    "Topic\n",
    "\n",
    "1. Frame system\n",
    "\n",
    "2. Def for frame system\n",
    "\n",
    "3. Assembling the system stiffness matrix"
   ]
  },
  {
   "cell_type": "markdown",
   "metadata": {},
   "source": [
    "---\n",
    "\n",
    "Frame member stiffness matrix in global coordinates\n",
    "\n",
    "<img src=\"Figures/W04-1-FrameGlobalStiffness.png\" height = 10>\n"
   ]
  },
  {
   "cell_type": "markdown",
   "metadata": {},
   "source": [
    "**Solution FlowChart**\n",
    "\n",
    "<img src=\"Figures/W04-0-FlowChartForFrame.svg\" height = 10>\n"
   ]
  },
  {
   "cell_type": "markdown",
   "metadata": {},
   "source": [
    "**Import the modules**"
   ]
  },
  {
   "cell_type": "code",
   "execution_count": 11,
   "metadata": {},
   "outputs": [],
   "source": [
    "import numpy as np"
   ]
  },
  {
   "cell_type": "markdown",
   "metadata": {},
   "source": [
    "---\n",
    "\n",
    "**Let's create the FrameStiffness**"
   ]
  },
  {
   "cell_type": "code",
   "execution_count": 63,
   "metadata": {},
   "outputs": [],
   "source": [
    "def FrameStiffness( E , A , I , I_node  , J_node):\n",
    "    \"\"\"\n",
    "    Arguments:\n",
    "    E : Modulus of elasticity (MPa = N/mm2)\n",
    "    A : Area (mm2)\n",
    "    I : Moment of inertia (mm4)\n",
    "    I_Node (xi_1,xi_2) : Coordinates of node i (Tuple) \n",
    "    J_Node (xj_1,xj_2) : Coordinates of node j (Tuple) \n",
    "    \n",
    "    Return: \n",
    "    Member Stiffness matrix\n",
    "    \"\"\"\n",
    "    # Parse the node coordinates\n",
    "    xi_1,xi_2 = I_node[0] , I_node[1]\n",
    "    xj_1,xj_2 = J_node[0] , J_node[1]\n",
    "    \n",
    "    # Delta values\n",
    "    delta_1 = xj_1 - xi_1\n",
    "    delta_2 = xj_2 - xi_2\n",
    "    \n",
    "    # Length of member\n",
    "    L_member = ((delta_1)**2 + (delta_2)**2 )**(0.5)\n",
    "    \n",
    "    # Repeating values\n",
    "    EA_L3 = E * A / L_member**3\n",
    "    EI_L5 = E * I / L_member**5\n",
    "    EI_L3 = E * I / L_member**3\n",
    "    EI_L  = E * I / L_member\n",
    "    \n",
    "    # Member stiffness matrix in array\n",
    "    # Q1\n",
    "    k_Q1 = np.array([[(EA_L3 * delta_1**2 + 12*EI_L5*delta_2**2) , (EA_L3-12*EI_L5)*delta_1*delta_2 ,(-6*EI_L3*delta_2)],\n",
    "                     [(EA_L3-12*EI_L5)*delta_1*delta_2 , (EA_L3*delta_2**2 + 12*EI_L5*delta_1**2) , (6*EI_L3*delta_1) ],\n",
    "                     [ (-6*EI_L3*delta_2) , (6*EI_L3*delta_1) , (4*EI_L) ]])\n",
    "    # Q4 \n",
    "    k_Q4 = np.array([[(EA_L3 * delta_1**2 + 12*EI_L5*delta_2**2) , (EA_L3-12*EI_L5)*delta_1*delta_2 ,(6*EI_L3*delta_2)],\n",
    "                     [(EA_L3-12*EI_L5)*delta_1*delta_2 , (EA_L3*delta_2**2 + 12*EI_L5*delta_1**2) , (-6*EI_L3*delta_1) ],\n",
    "                     [ (6*EI_L3*delta_2) , (-6*EI_L3*delta_1) , (4*EI_L) ]])\n",
    "    # Q3\n",
    "    \n",
    "    k_Q3 = np.array([ [ -(EA_L3 * delta_1**2 + 12*EI_L5*delta_2**2) , -(EA_L3 - 12*EI_L5)*delta_1*delta_2 , (6*EI_L3*delta_2) ] ,\n",
    "                    [ -(EA_L3 - 12*EI_L5)*delta_1*delta_2 , -(EA_L3 * delta_2**2 + 12*EI_L5*delta_1**2) , -(6*EI_L3*delta_1)],\n",
    "                    [ -(6*EI_L3*delta_2) , (6*EI_L3*delta_1) , (2*EI_L)]])\n",
    "    \n",
    "    # Q2\n",
    "    k_Q2 = np.transpose( np.array([ [ -(EA_L3 * delta_1**2 + 12*EI_L5*delta_2**2) , -(EA_L3 - 12*EI_L5)*delta_1*delta_2 , (6*EI_L3*delta_2) ] ,\n",
    "                    [ -(EA_L3 - 12*EI_L5)*delta_1*delta_2 , -(EA_L3 * delta_2**2 + 12*EI_L5*delta_1**2) , -(6*EI_L3*delta_1)],\n",
    "                    [ -(6*EI_L3*delta_2) , (6*EI_L3*delta_1) , (2*EI_L)]]))\n",
    "    \n",
    "    # Finally the member stiffness matrix\n",
    "    K = np.array([[k_Q1] , [k_Q2],[k_Q3],[k_Q4]])\n",
    "\n",
    "    # Return\n",
    "    return K\n",
    "    "
   ]
  },
  {
   "cell_type": "markdown",
   "metadata": {},
   "source": [
    "**Let's do test for QA**"
   ]
  },
  {
   "cell_type": "markdown",
   "metadata": {},
   "source": [
    "Unit test"
   ]
  },
  {
   "cell_type": "code",
   "execution_count": 20,
   "metadata": {
    "collapsed": true,
    "jupyter": {
     "outputs_hidden": true
    }
   },
   "outputs": [
    {
     "name": "stdout",
     "output_type": "stream",
     "text": [
      "[[[[ 2.47487373 -1.76776695 -2.12132034]\n",
      "   [-1.76776695  2.47487373  2.12132034]\n",
      "   [-2.12132034  2.12132034  2.82842712]]]\n",
      "\n",
      "\n",
      " [[[-2.47487373  1.76776695  2.12132034]\n",
      "   [ 1.76776695 -2.47487373 -2.12132034]\n",
      "   [-2.12132034  2.12132034  1.41421356]]]\n",
      "\n",
      "\n",
      " [[[-2.47487373  1.76776695  2.12132034]\n",
      "   [ 1.76776695 -2.47487373 -2.12132034]\n",
      "   [-2.12132034  2.12132034  1.41421356]]]\n",
      "\n",
      "\n",
      " [[[ 2.47487373 -1.76776695  2.12132034]\n",
      "   [-1.76776695  2.47487373 -2.12132034]\n",
      "   [ 2.12132034 -2.12132034  2.82842712]]]]\n"
     ]
    }
   ],
   "source": [
    "K_Test1 = FrameStiffness( 1 , 1 , 1 , (0,0)  , (1,1))\n",
    "print( K_Test1)"
   ]
  },
  {
   "cell_type": "code",
   "execution_count": 24,
   "metadata": {
    "collapsed": true,
    "jupyter": {
     "outputs_hidden": true
    }
   },
   "outputs": [
    {
     "name": "stdout",
     "output_type": "stream",
     "text": [
      "[[[[ 0.  0. -0.]\n",
      "   [ 0.  0.  0.]\n",
      "   [-0.  0.  0.]]]\n",
      "\n",
      "\n",
      " [[[-0. -0.  0.]\n",
      "   [-0. -0. -0.]\n",
      "   [-0.  0.  0.]]]\n",
      "\n",
      "\n",
      " [[[-0. -0.  0.]\n",
      "   [-0. -0. -0.]\n",
      "   [-0.  0.  0.]]]\n",
      "\n",
      "\n",
      " [[[ 0.  0.  0.]\n",
      "   [ 0.  0. -0.]\n",
      "   [ 0. -0.  0.]]]]\n"
     ]
    }
   ],
   "source": [
    "K_Test2 = FrameStiffness(  0 , 1 , 1 , (0,0)  , (1,1))\n",
    "print( K_Test2)"
   ]
  },
  {
   "cell_type": "code",
   "execution_count": 27,
   "metadata": {
    "collapsed": true,
    "jupyter": {
     "outputs_hidden": true
    }
   },
   "outputs": [
    {
     "name": "stdout",
     "output_type": "stream",
     "text": [
      "[[[[ 0.35355339  0.35355339 -0.        ]\n",
      "   [ 0.35355339  0.35355339  0.        ]\n",
      "   [-0.          0.          0.        ]]]\n",
      "\n",
      "\n",
      " [[[-0.35355339 -0.35355339  0.        ]\n",
      "   [-0.35355339 -0.35355339 -0.        ]\n",
      "   [-0.          0.          0.        ]]]\n",
      "\n",
      "\n",
      " [[[-0.35355339 -0.35355339  0.        ]\n",
      "   [-0.35355339 -0.35355339 -0.        ]\n",
      "   [-0.          0.          0.        ]]]\n",
      "\n",
      "\n",
      " [[[ 0.35355339  0.35355339  0.        ]\n",
      "   [ 0.35355339  0.35355339 -0.        ]\n",
      "   [ 0.         -0.          0.        ]]]]\n"
     ]
    }
   ],
   "source": [
    "K_Test3 = FrameStiffness(  1 , 1 , 0 , (0,0)  , (1,1))\n",
    "print( K_Test3)"
   ]
  },
  {
   "cell_type": "code",
   "execution_count": 28,
   "metadata": {
    "collapsed": true,
    "jupyter": {
     "outputs_hidden": true
    }
   },
   "outputs": [
    {
     "name": "stdout",
     "output_type": "stream",
     "text": [
      "[[[[ 12.  -0.  -6.]\n",
      "   [ -0.   1.   0.]\n",
      "   [ -6.   0.   4.]]]\n",
      "\n",
      "\n",
      " [[[-12.   0.   6.]\n",
      "   [  0.  -1.  -0.]\n",
      "   [ -6.   0.   2.]]]\n",
      "\n",
      "\n",
      " [[[-12.   0.   6.]\n",
      "   [  0.  -1.  -0.]\n",
      "   [ -6.   0.   2.]]]\n",
      "\n",
      "\n",
      " [[[ 12.  -0.   6.]\n",
      "   [ -0.   1.  -0.]\n",
      "   [  6.  -0.   4.]]]]\n"
     ]
    }
   ],
   "source": [
    "K_Test4 = FrameStiffness(  1 , 1 , 1 , (0,0)  , (0,1))\n",
    "print( K_Test4)"
   ]
  },
  {
   "cell_type": "code",
   "execution_count": 29,
   "metadata": {
    "collapsed": true,
    "jupyter": {
     "outputs_hidden": true
    }
   },
   "outputs": [
    {
     "name": "stdout",
     "output_type": "stream",
     "text": [
      "[[[[  1.  -0.  -0.]\n",
      "   [ -0.  12.   6.]\n",
      "   [ -0.   6.   4.]]]\n",
      "\n",
      "\n",
      " [[[ -1.   0.   0.]\n",
      "   [  0. -12.  -6.]\n",
      "   [ -0.   6.   2.]]]\n",
      "\n",
      "\n",
      " [[[ -1.   0.   0.]\n",
      "   [  0. -12.  -6.]\n",
      "   [ -0.   6.   2.]]]\n",
      "\n",
      "\n",
      " [[[  1.  -0.   0.]\n",
      "   [ -0.  12.  -6.]\n",
      "   [  0.  -6.   4.]]]]\n"
     ]
    }
   ],
   "source": [
    "K_Test5 = FrameStiffness(  1 , 1 , 1 , (0,0)  , (1,0))\n",
    "print( K_Test5)"
   ]
  },
  {
   "cell_type": "markdown",
   "metadata": {},
   "source": [
    "Validation"
   ]
  },
  {
   "cell_type": "markdown",
   "metadata": {},
   "source": [
    "Beam \n",
    "<img src=\"Figures/W04-3-ValidationForFrameGloballStiffness.png\" height = 10>"
   ]
  },
  {
   "cell_type": "code",
   "execution_count": 73,
   "metadata": {},
   "outputs": [
    {
     "name": "stdout",
     "output_type": "stream",
     "text": [
      "[[[[ 233800.               0.              -0.        ]\n",
      "   [      0.            1997.33333333    2996.        ]\n",
      "   [     -0.            2996.            5992.        ]]]\n",
      "\n",
      "\n",
      " [[[-233800.              -0.              -0.        ]\n",
      "   [     -0.           -1997.33333333    2996.        ]\n",
      "   [      0.           -2996.            2996.        ]]]\n",
      "\n",
      "\n",
      " [[[-233800.              -0.               0.        ]\n",
      "   [     -0.           -1997.33333333   -2996.        ]\n",
      "   [     -0.            2996.            2996.        ]]]\n",
      "\n",
      "\n",
      " [[[ 233800.               0.               0.        ]\n",
      "   [      0.            1997.33333333   -2996.        ]\n",
      "   [      0.           -2996.            5992.        ]]]]\n"
     ]
    }
   ],
   "source": [
    "E =  21*10**7\n",
    "A = 334*10**(-5)\n",
    "I = 214*10**(-7)\n",
    "I_node = (0,3)\n",
    "J_node = (3,3)\n",
    "K_2 = FrameStiffness( E , A , I , I_node  , J_node)\n",
    "print( K_2)"
   ]
  },
  {
   "cell_type": "markdown",
   "metadata": {},
   "source": [
    "Column\n",
    "\n",
    "<img src=\"4-ValidationForFrameGloballStiffness.png\" height = 10 >"
   ]
  },
  {
   "cell_type": "code",
   "execution_count": 72,
   "metadata": {},
   "outputs": [
    {
     "name": "stdout",
     "output_type": "stream",
     "text": [
      "[[[[   1997.33333333       0.           -2996.        ]\n",
      "   [      0.          233800.               0.        ]\n",
      "   [  -2996.               0.            5992.        ]]]\n",
      "\n",
      "\n",
      " [[[  -1997.33333333      -0.           -2996.        ]\n",
      "   [     -0.         -233800.               0.        ]\n",
      "   [   2996.              -0.            2996.        ]]]\n",
      "\n",
      "\n",
      " [[[  -1997.33333333      -0.            2996.        ]\n",
      "   [     -0.         -233800.              -0.        ]\n",
      "   [  -2996.               0.            2996.        ]]]\n",
      "\n",
      "\n",
      " [[[   1997.33333333       0.            2996.        ]\n",
      "   [      0.          233800.              -0.        ]\n",
      "   [   2996.              -0.            5992.        ]]]]\n"
     ]
    }
   ],
   "source": [
    "E =  21*10**7\n",
    "A = 334*10**(-5)\n",
    "I = 214*10**(-7)\n",
    "I_node = (0,0)\n",
    "J_node = (0,3)\n",
    "K_1 = FrameStiffness( E , A , I , I_node  , J_node)\n",
    "print( K_1)"
   ]
  },
  {
   "cell_type": "markdown",
   "metadata": {},
   "source": [
    "## Assembling the system stiffness matrix"
   ]
  },
  {
   "cell_type": "markdown",
   "metadata": {},
   "source": [
    "<img src=\"Figures/W04-5-SystemStifnessMatrixAssemble.png\" width= \"70%\" >"
   ]
  },
  {
   "cell_type": "code",
   "execution_count": 74,
   "metadata": {
    "collapsed": true,
    "jupyter": {
     "outputs_hidden": true
    }
   },
   "outputs": [
    {
     "name": "stdout",
     "output_type": "stream",
     "text": [
      "[[[[   1997.33333333       0.           -2996.        ]\n",
      "   [      0.          233800.               0.        ]\n",
      "   [  -2996.               0.            5992.        ]]]\n",
      "\n",
      "\n",
      " [[[  -1997.33333333      -0.           -2996.        ]\n",
      "   [     -0.         -233800.               0.        ]\n",
      "   [   2996.              -0.            2996.        ]]]\n",
      "\n",
      "\n",
      " [[[  -1997.33333333      -0.            2996.        ]\n",
      "   [     -0.         -233800.              -0.        ]\n",
      "   [  -2996.               0.            2996.        ]]]\n",
      "\n",
      "\n",
      " [[[   1997.33333333       0.            2996.        ]\n",
      "   [      0.          233800.              -0.        ]\n",
      "   [   2996.              -0.            5992.        ]]]] [[[[ 233800.               0.              -0.        ]\n",
      "   [      0.            1997.33333333    2996.        ]\n",
      "   [     -0.            2996.            5992.        ]]]\n",
      "\n",
      "\n",
      " [[[-233800.              -0.              -0.        ]\n",
      "   [     -0.           -1997.33333333    2996.        ]\n",
      "   [      0.           -2996.            2996.        ]]]\n",
      "\n",
      "\n",
      " [[[-233800.              -0.               0.        ]\n",
      "   [     -0.           -1997.33333333   -2996.        ]\n",
      "   [     -0.            2996.            2996.        ]]]\n",
      "\n",
      "\n",
      " [[[ 233800.               0.               0.        ]\n",
      "   [      0.            1997.33333333   -2996.        ]\n",
      "   [      0.           -2996.            5992.        ]]]]\n"
     ]
    }
   ],
   "source": [
    "print(K_1, K_2)"
   ]
  },
  {
   "cell_type": "code",
   "execution_count": 71,
   "metadata": {},
   "outputs": [
    {
     "data": {
      "text/plain": [
       "array([[[  1997.33333333,      0.        ,   2996.        ],\n",
       "        [     0.        , 233800.        ,     -0.        ],\n",
       "        [  2996.        ,     -0.        ,   5992.        ]]])"
      ]
     },
     "execution_count": 71,
     "metadata": {},
     "output_type": "execute_result"
    }
   ],
   "source": [
    "K_1[3]"
   ]
  },
  {
   "cell_type": "markdown",
   "metadata": {},
   "source": [
    "**Short-cut for system stiffness matrix**"
   ]
  },
  {
   "cell_type": "markdown",
   "metadata": {},
   "source": [
    "K = [[K_1[0],K_1[1], np.zeros(3,3)],\n",
    "    [[K_1[2],K_1[3]+K_2[0],K_2[1]],\n",
    "    [[np.zeros(3,3),K_2[2],K_2[3]]]"
   ]
  },
  {
   "cell_type": "code",
   "execution_count": 92,
   "metadata": {},
   "outputs": [],
   "source": [
    "K = [\n",
    "    [K_1[0],K_1[1], np.zeros((3,3))],\n",
    "    [ K_1[2],K_1[3]+K_2[0],K_2[1]],\n",
    "    [ np.zeros((3,3)),K_2[2],K_2[3]]\n",
    "    ]"
   ]
  },
  {
   "cell_type": "code",
   "execution_count": 93,
   "metadata": {},
   "outputs": [
    {
     "data": {
      "text/plain": [
       "[array([[[  1997.33333333,      0.        ,  -2996.        ],\n",
       "         [     0.        , 233800.        ,      0.        ],\n",
       "         [ -2996.        ,      0.        ,   5992.        ]]]),\n",
       " array([[[  -1997.33333333,      -0.        ,   -2996.        ],\n",
       "         [     -0.        , -233800.        ,       0.        ],\n",
       "         [   2996.        ,      -0.        ,    2996.        ]]]),\n",
       " array([[0., 0., 0.],\n",
       "        [0., 0., 0.],\n",
       "        [0., 0., 0.]])]"
      ]
     },
     "execution_count": 93,
     "metadata": {},
     "output_type": "execute_result"
    }
   ],
   "source": [
    "K[0]"
   ]
  },
  {
   "cell_type": "code",
   "execution_count": 94,
   "metadata": {},
   "outputs": [
    {
     "data": {
      "text/plain": [
       "[array([[[  -1997.33333333,      -0.        ,    2996.        ],\n",
       "         [     -0.        , -233800.        ,      -0.        ],\n",
       "         [  -2996.        ,       0.        ,    2996.        ]]]),\n",
       " array([[[235797.33333333,      0.        ,   2996.        ],\n",
       "         [     0.        , 235797.33333333,   2996.        ],\n",
       "         [  2996.        ,   2996.        ,  11984.        ]]]),\n",
       " array([[[-233800.        ,      -0.        ,      -0.        ],\n",
       "         [     -0.        ,   -1997.33333333,    2996.        ],\n",
       "         [      0.        ,   -2996.        ,    2996.        ]]])]"
      ]
     },
     "execution_count": 94,
     "metadata": {},
     "output_type": "execute_result"
    }
   ],
   "source": [
    "K[1]"
   ]
  },
  {
   "cell_type": "code",
   "execution_count": 95,
   "metadata": {},
   "outputs": [
    {
     "data": {
      "text/plain": [
       "[array([[0., 0., 0.],\n",
       "        [0., 0., 0.],\n",
       "        [0., 0., 0.]]),\n",
       " array([[[-233800.        ,      -0.        ,       0.        ],\n",
       "         [     -0.        ,   -1997.33333333,   -2996.        ],\n",
       "         [     -0.        ,    2996.        ,    2996.        ]]]),\n",
       " array([[[233800.        ,      0.        ,      0.        ],\n",
       "         [     0.        ,   1997.33333333,  -2996.        ],\n",
       "         [     0.        ,  -2996.        ,   5992.        ]]])]"
      ]
     },
     "execution_count": 95,
     "metadata": {},
     "output_type": "execute_result"
    }
   ],
   "source": [
    "K[2]"
   ]
  },
  {
   "cell_type": "markdown",
   "metadata": {},
   "source": [
    "**Right Way**"
   ]
  },
  {
   "cell_type": "code",
   "execution_count": 100,
   "metadata": {},
   "outputs": [
    {
     "data": {
      "text/plain": [
       "[1, 2]"
      ]
     },
     "execution_count": 100,
     "metadata": {},
     "output_type": "execute_result"
    }
   ],
   "source": [
    "K1_node=[1,2]\n",
    "K1_node"
   ]
  },
  {
   "cell_type": "code",
   "execution_count": 99,
   "metadata": {},
   "outputs": [
    {
     "data": {
      "text/plain": [
       "[2, 3]"
      ]
     },
     "execution_count": 99,
     "metadata": {},
     "output_type": "execute_result"
    }
   ],
   "source": [
    "K2_node=[2,3]\n",
    "K2_node"
   ]
  },
  {
   "cell_type": "markdown",
   "metadata": {},
   "source": [
    "Remembet the node mapping and construct the system stiffness matrix accordingly.\n",
    "\n",
    "Let's discuss next week!"
   ]
  },
  {
   "cell_type": "code",
   "execution_count": null,
   "metadata": {},
   "outputs": [],
   "source": []
  }
 ],
 "metadata": {
  "kernelspec": {
   "display_name": "Python 3",
   "language": "python",
   "name": "python3"
  },
  "language_info": {
   "codemirror_mode": {
    "name": "ipython",
    "version": 3
   },
   "file_extension": ".py",
   "mimetype": "text/x-python",
   "name": "python",
   "nbconvert_exporter": "python",
   "pygments_lexer": "ipython3",
   "version": "3.8.5"
  }
 },
 "nbformat": 4,
 "nbformat_minor": 4
}
